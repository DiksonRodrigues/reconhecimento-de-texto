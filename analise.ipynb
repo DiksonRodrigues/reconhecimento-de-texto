{
 "cells": [
  {
   "cell_type": "markdown",
   "metadata": {},
   "source": [
    "Notebook original:\n",
    "https://colab.research.google.com/drive/1mS01T2ljMRsh00_gN7OQPdXFdM6urPrj?usp=sharing#scrollTo=NnFwolmj-x5D\n"
   ]
  },
  {
   "cell_type": "markdown",
   "metadata": {},
   "source": [
    "**Instalação das bibliotecas**\n",
    "\n",
    "pip install pytesseract\n",
    "\n",
    "pip install opencv-python"
   ]
  },
  {
   "cell_type": "code",
   "execution_count": 1,
   "metadata": {},
   "outputs": [],
   "source": [
    "import pytesseract\n",
    "import numpy as np\n",
    "import cv2"
   ]
  },
  {
   "cell_type": "markdown",
   "metadata": {},
   "source": [
    "Para mostrar a imagem no colab precisa:\n",
    "\n",
    "**importar esta biblioteca**\n",
    "\n",
    "from google.colab.patches import cv2_imshow\n",
    "\n",
    "**chamar desta forma no código**\n",
    "\n",
    "img = cv2.imread('/content/teste01.jpg')\n",
    "cv2_imshow(img) # BGR (RGB)"
   ]
  },
  {
   "cell_type": "code",
   "execution_count": 2,
   "metadata": {},
   "outputs": [
    {
     "data": {
      "text/plain": [
       "-1"
      ]
     },
     "execution_count": 2,
     "metadata": {},
     "output_type": "execute_result"
    }
   ],
   "source": [
    "img = cv2.imread('Imagens/teste01.jpg')\n",
    "cv2.imshow('ImageWindow', img)  ## mostra em uma janela fora do vscode\n",
    "cv2.waitKey()"
   ]
  },
  {
   "cell_type": "markdown",
   "metadata": {},
   "source": [
    "O OpenCV trabalha com as cores BGR = Blue, Green, Red e precisamos passar elas para o sistema que estamos acostumados no geral que é o RGB = Red, Green, Blue. Para fazer esta conversão, podemos fazer desta forma:"
   ]
  },
  {
   "cell_type": "code",
   "execution_count": 3,
   "metadata": {},
   "outputs": [
    {
     "data": {
      "text/plain": [
       "-1"
      ]
     },
     "execution_count": 3,
     "metadata": {},
     "output_type": "execute_result"
    }
   ],
   "source": [
    "rgb = cv2.cvtColor(img, cv2.COLOR_BGR2RGB)\n",
    "cv2.imshow('ImageWindow', rgb) \n",
    "cv2.waitKey()"
   ]
  },
  {
   "cell_type": "markdown",
   "metadata": {},
   "source": [
    "Para retirar apenas o texto da imagem, usamos o pytesseract"
   ]
  },
  {
   "cell_type": "code",
   "execution_count": 7,
   "metadata": {},
   "outputs": [],
   "source": [
    "pytesseract.pytesseract.tesseract_cmd = r'C:\\Users\\Sthefanie\\AppData\\Local\\Programs\\Tesseract-OCR\\tesseract.exe'"
   ]
  },
  {
   "cell_type": "code",
   "execution_count": 8,
   "metadata": {},
   "outputs": [],
   "source": [
    "texto = pytesseract.image_to_string(rgb)"
   ]
  },
  {
   "cell_type": "markdown",
   "metadata": {},
   "source": [
    "Tive um erro: **TesseractNotFoundError: tesseract is not installed or it's not in your PATH. See README file for more information.** \n",
    "\n",
    "**Resolvi com:** https://stackoverflow.com/questions/50951955/pytesseract-tesseractnotfound-error-tesseract-is-not-installed-or-its-not-i\n",
    "\n",
    "Instalando o Tesseract no windows: https://github.com/UB-Mannheim/tesseract/wiki \n",
    "\n",
    "*Selecionei pra baixar todas os idiomas, nunca se sabe quando a gente vai precisar usar algo em romeno ou em árabe, por exemplo!*\n",
    "\n",
    "**Local de instalação**\n",
    "C:\\Users\\Sthefanie\\AppData\\Local\\Programs\\Tesseract-OCR\n",
    "\n",
    "chamar:\n",
    "\n",
    "pytesseract.pytesseract.tesseract_cmd = r'C:\\Users\\Sthefanie\\AppData\\Local\\Programs\\Tesseract-OCR\\tesseract.exe'\n",
    "\n"
   ]
  },
  {
   "cell_type": "code",
   "execution_count": 9,
   "metadata": {},
   "outputs": [
    {
     "name": "stdout",
     "output_type": "stream",
     "text": [
      "testando o\n",
      "OCR...\n",
      "\n"
     ]
    }
   ],
   "source": [
    "print(texto)"
   ]
  },
  {
   "cell_type": "markdown",
   "metadata": {},
   "source": [
    "### Suporte para outros idiomas"
   ]
  },
  {
   "cell_type": "code",
   "execution_count": 14,
   "metadata": {},
   "outputs": [
    {
     "data": {
      "text/plain": [
       "-1"
      ]
     },
     "execution_count": 14,
     "metadata": {},
     "output_type": "execute_result"
    }
   ],
   "source": [
    "img = cv2.imread('Imagens/teste02.jpg')\n",
    "cv2.imshow('ImageWindow', img)\n",
    "cv2.waitKey()"
   ]
  },
  {
   "cell_type": "code",
   "execution_count": 15,
   "metadata": {},
   "outputs": [
    {
     "data": {
      "text/plain": [
       "-1"
      ]
     },
     "execution_count": 15,
     "metadata": {},
     "output_type": "execute_result"
    }
   ],
   "source": [
    "rgb = cv2.cvtColor(img, cv2.COLOR_BGR2RGB)\n",
    "cv2.imshow('ImageWindow', rgb) \n",
    "cv2.waitKey()"
   ]
  },
  {
   "cell_type": "code",
   "execution_count": 17,
   "metadata": {},
   "outputs": [
    {
     "name": "stdout",
     "output_type": "stream",
     "text": [
      "inteligéncia\n",
      "artificial e visao\n",
      "computacional\n",
      "\n"
     ]
    }
   ],
   "source": [
    "texto = pytesseract.image_to_string(rgb)\n",
    "print(texto)"
   ]
  },
  {
   "cell_type": "code",
   "execution_count": 20,
   "metadata": {},
   "outputs": [],
   "source": [
    "#!tesseract --list-langs\n",
    "#funciona no colab e nos mostra quais as línguas que estão instaladas no tesseract do ambiente, no meu caso estão instaladas todas\n",
    "#!apt-get install tesseract-ocr-por \n",
    "# para instalar o pacote em português"
   ]
  },
  {
   "cell_type": "code",
   "execution_count": 22,
   "metadata": {},
   "outputs": [
    {
     "name": "stdout",
     "output_type": "stream",
     "text": [
      "inteligência\n",
      "artificial e visão\n",
      "computacional\n",
      "\n"
     ]
    }
   ],
   "source": [
    "texto = pytesseract.image_to_string(rgb, lang='por')\n",
    "print(texto)"
   ]
  },
  {
   "cell_type": "markdown",
   "metadata": {},
   "source": [
    "No colab, podemos fazer uma pasta chamada tessdata, ou qualquer outro nome, para guardar os dados do tesseract, para isso usamos:\n",
    "\n",
    "**!mkdir tessdata**\n",
    "\n",
    "e depois para buscar os dados do idioma português direto da documentação:\n",
    "\n",
    "**!wget -O ./tessdata/por.traineddata https://github.com/tesseract-ocr/tessdata/blob/main/por.traineddata?raw=true**\n",
    "\n",
    "Caso queira usar em inglês:\n",
    "\n",
    "**!wget -O ./tessdata/eng.traineddata https://github.com/tesseract-ocr/tessdata/blob/main/eng.traineddata?raw=true**\n",
    "\n",
    "E para usar esse comando depois, direto da pasta, basta usar:\n",
    "\n",
    "```\n",
    "\n",
    "config_tesseract = '--tessdata-dir tessdata'\n",
    "\n",
    "texto = pytesseract.image_to_string(rgb, lang='por', config=config_tesseract)\n",
    "\n",
    "print(texto)\n",
    "\n",
    "```\n"
   ]
  },
  {
   "cell_type": "markdown",
   "metadata": {},
   "source": [
    "## Parâmetro - Page Segmentation Mode (PSM)\n",
    "\n"
   ]
  },
  {
   "cell_type": "code",
   "execution_count": 27,
   "metadata": {},
   "outputs": [
    {
     "data": {
      "text/plain": [
       "-1"
      ]
     },
     "execution_count": 27,
     "metadata": {},
     "output_type": "execute_result"
    }
   ],
   "source": [
    "img = cv2.imread('Imagens/trecho-livro.jpg')\n",
    "rgb = cv2.cvtColor(img, cv2.COLOR_BGR2RGB)\n",
    "cv2.imshow('ImageWindow', rgb) \n",
    "cv2.waitKey()"
   ]
  },
  {
   "cell_type": "markdown",
   "metadata": {},
   "source": [
    "como colocar o psm no vscode??"
   ]
  },
  {
   "cell_type": "code",
   "execution_count": 29,
   "metadata": {},
   "outputs": [
    {
     "ename": "NameError",
     "evalue": "name 'psm6' is not defined",
     "output_type": "error",
     "traceback": [
      "\u001b[1;31m---------------------------------------------------------------------------\u001b[0m",
      "\u001b[1;31mNameError\u001b[0m                                 Traceback (most recent call last)",
      "\u001b[1;32mC:\\Users\\STHEFA~1\\AppData\\Local\\Temp/ipykernel_14928/561809922.py\u001b[0m in \u001b[0;36m<module>\u001b[1;34m\u001b[0m\n\u001b[1;32m----> 1\u001b[1;33m \u001b[0mtexto\u001b[0m \u001b[1;33m=\u001b[0m \u001b[0mpytesseract\u001b[0m\u001b[1;33m.\u001b[0m\u001b[0mimage_to_string\u001b[0m\u001b[1;33m(\u001b[0m\u001b[0mrgb\u001b[0m\u001b[1;33m,\u001b[0m \u001b[0mlang\u001b[0m\u001b[1;33m=\u001b[0m\u001b[1;34m'por'\u001b[0m\u001b[1;33m,\u001b[0m \u001b[0mconfig\u001b[0m\u001b[1;33m=\u001b[0m\u001b[0mpsm6\u001b[0m\u001b[1;33m)\u001b[0m\u001b[1;33m\u001b[0m\u001b[1;33m\u001b[0m\u001b[0m\n\u001b[0m\u001b[0;32m      2\u001b[0m \u001b[0mprint\u001b[0m\u001b[1;33m(\u001b[0m\u001b[0mtexto\u001b[0m\u001b[1;33m)\u001b[0m\u001b[1;33m\u001b[0m\u001b[1;33m\u001b[0m\u001b[0m\n",
      "\u001b[1;31mNameError\u001b[0m: name 'psm6' is not defined"
     ]
    }
   ],
   "source": [
    "texto = pytesseract.image_to_string(rgb, lang='por', config=psm6)\n",
    "print(texto)"
   ]
  },
  {
   "cell_type": "code",
   "execution_count": null,
   "metadata": {},
   "outputs": [],
   "source": []
  }
 ],
 "metadata": {
  "interpreter": {
   "hash": "3d83e054586243de60fe798e4d429a98fcd6df3e6fadd65a06f86c67c10d7d06"
  },
  "kernelspec": {
   "display_name": "Python 3.9.7 ('base')",
   "language": "python",
   "name": "python3"
  },
  "language_info": {
   "codemirror_mode": {
    "name": "ipython",
    "version": 3
   },
   "file_extension": ".py",
   "mimetype": "text/x-python",
   "name": "python",
   "nbconvert_exporter": "python",
   "pygments_lexer": "ipython3",
   "version": "3.9.7"
  },
  "orig_nbformat": 4
 },
 "nbformat": 4,
 "nbformat_minor": 2
}
